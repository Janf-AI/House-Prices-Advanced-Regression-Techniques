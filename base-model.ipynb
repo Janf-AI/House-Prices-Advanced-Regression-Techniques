{
 "cells": [
  {
   "cell_type": "markdown",
   "id": "4c59fbf2",
   "metadata": {
    "papermill": {
     "duration": 0.004986,
     "end_time": "2025-03-12T00:31:03.522092",
     "exception": false,
     "start_time": "2025-03-12T00:31:03.517106",
     "status": "completed"
    },
    "tags": []
   },
   "source": [
    "# Print Data Directories"
   ]
  },
  {
   "cell_type": "code",
   "execution_count": 1,
   "id": "dcaaf7cc",
   "metadata": {
    "execution": {
     "iopub.execute_input": "2025-03-12T00:31:03.532486Z",
     "iopub.status.busy": "2025-03-12T00:31:03.532146Z",
     "iopub.status.idle": "2025-03-12T00:31:03.540541Z",
     "shell.execute_reply": "2025-03-12T00:31:03.539337Z"
    },
    "papermill": {
     "duration": 0.015337,
     "end_time": "2025-03-12T00:31:03.542222",
     "exception": false,
     "start_time": "2025-03-12T00:31:03.526885",
     "status": "completed"
    },
    "tags": []
   },
   "outputs": [
    {
     "name": "stdout",
     "output_type": "stream",
     "text": [
      "/kaggle/input/house-prices-advanced-regression-techniques/sample_submission.csv\n",
      "/kaggle/input/house-prices-advanced-regression-techniques/data_description.txt\n",
      "/kaggle/input/house-prices-advanced-regression-techniques/train.csv\n",
      "/kaggle/input/house-prices-advanced-regression-techniques/test.csv\n"
     ]
    }
   ],
   "source": [
    "import os\n",
    "for dirname, _, filenames in os.walk('/kaggle/input'):\n",
    "    for filename in filenames:\n",
    "        print(os.path.join(dirname, filename))"
   ]
  },
  {
   "cell_type": "markdown",
   "id": "090887fa",
   "metadata": {
    "papermill": {
     "duration": 0.003864,
     "end_time": "2025-03-12T00:31:03.550614",
     "exception": false,
     "start_time": "2025-03-12T00:31:03.546750",
     "status": "completed"
    },
    "tags": []
   },
   "source": [
    "# Import Helpful Libraries"
   ]
  },
  {
   "cell_type": "code",
   "execution_count": 2,
   "id": "be20d7e9",
   "metadata": {
    "execution": {
     "iopub.execute_input": "2025-03-12T00:31:03.560272Z",
     "iopub.status.busy": "2025-03-12T00:31:03.559883Z",
     "iopub.status.idle": "2025-03-12T00:31:07.281396Z",
     "shell.execute_reply": "2025-03-12T00:31:07.280158Z"
    },
    "papermill": {
     "duration": 3.728743,
     "end_time": "2025-03-12T00:31:07.283477",
     "exception": false,
     "start_time": "2025-03-12T00:31:03.554734",
     "status": "completed"
    },
    "tags": []
   },
   "outputs": [],
   "source": [
    "import pandas as pd\n",
    "from sklearn.ensemble import RandomForestRegressor\n",
    "from sklearn.metrics import mean_absolute_error\n",
    "from sklearn.model_selection import train_test_split"
   ]
  },
  {
   "cell_type": "markdown",
   "id": "e83d630a",
   "metadata": {
    "papermill": {
     "duration": 0.003904,
     "end_time": "2025-03-12T00:31:07.291744",
     "exception": false,
     "start_time": "2025-03-12T00:31:07.287840",
     "status": "completed"
    },
    "tags": []
   },
   "source": [
    "# Load the data"
   ]
  },
  {
   "cell_type": "code",
   "execution_count": 3,
   "id": "78823ff9",
   "metadata": {
    "_cell_guid": "b1076dfc-b9ad-4769-8c92-a6c4dae69d19",
    "_uuid": "8f2839f25d086af736a60e9eeb907d3b93b6e0e5",
    "execution": {
     "iopub.execute_input": "2025-03-12T00:31:07.301341Z",
     "iopub.status.busy": "2025-03-12T00:31:07.300810Z",
     "iopub.status.idle": "2025-03-12T00:31:07.350078Z",
     "shell.execute_reply": "2025-03-12T00:31:07.349125Z"
    },
    "papermill": {
     "duration": 0.056633,
     "end_time": "2025-03-12T00:31:07.352501",
     "exception": false,
     "start_time": "2025-03-12T00:31:07.295868",
     "status": "completed"
    },
    "tags": []
   },
   "outputs": [],
   "source": [
    "iowa_file_path = '../input/house-prices-advanced-regression-techniques/train.csv'\n",
    "home_data = pd.read_csv(iowa_file_path)"
   ]
  },
  {
   "cell_type": "markdown",
   "id": "81bf99f7",
   "metadata": {
    "papermill": {
     "duration": 0.004345,
     "end_time": "2025-03-12T00:31:07.361501",
     "exception": false,
     "start_time": "2025-03-12T00:31:07.357156",
     "status": "completed"
    },
    "tags": []
   },
   "source": [
    "# Create y"
   ]
  },
  {
   "cell_type": "code",
   "execution_count": 4,
   "id": "0d2ede61",
   "metadata": {
    "execution": {
     "iopub.execute_input": "2025-03-12T00:31:07.371360Z",
     "iopub.status.busy": "2025-03-12T00:31:07.370936Z",
     "iopub.status.idle": "2025-03-12T00:31:07.380442Z",
     "shell.execute_reply": "2025-03-12T00:31:07.379440Z"
    },
    "papermill": {
     "duration": 0.016349,
     "end_time": "2025-03-12T00:31:07.382159",
     "exception": false,
     "start_time": "2025-03-12T00:31:07.365810",
     "status": "completed"
    },
    "tags": []
   },
   "outputs": [],
   "source": [
    "y = home_data.SalePrice"
   ]
  },
  {
   "cell_type": "markdown",
   "id": "356fa40e",
   "metadata": {
    "papermill": {
     "duration": 0.004017,
     "end_time": "2025-03-12T00:31:07.390842",
     "exception": false,
     "start_time": "2025-03-12T00:31:07.386825",
     "status": "completed"
    },
    "tags": []
   },
   "source": [
    "# Create X"
   ]
  },
  {
   "cell_type": "code",
   "execution_count": 5,
   "id": "887ed46b",
   "metadata": {
    "execution": {
     "iopub.execute_input": "2025-03-12T00:31:07.401167Z",
     "iopub.status.busy": "2025-03-12T00:31:07.400797Z",
     "iopub.status.idle": "2025-03-12T00:31:07.430355Z",
     "shell.execute_reply": "2025-03-12T00:31:07.429141Z"
    },
    "papermill": {
     "duration": 0.037056,
     "end_time": "2025-03-12T00:31:07.432384",
     "exception": false,
     "start_time": "2025-03-12T00:31:07.395328",
     "status": "completed"
    },
    "tags": []
   },
   "outputs": [
    {
     "data": {
      "text/html": [
       "<div>\n",
       "<style scoped>\n",
       "    .dataframe tbody tr th:only-of-type {\n",
       "        vertical-align: middle;\n",
       "    }\n",
       "\n",
       "    .dataframe tbody tr th {\n",
       "        vertical-align: top;\n",
       "    }\n",
       "\n",
       "    .dataframe thead th {\n",
       "        text-align: right;\n",
       "    }\n",
       "</style>\n",
       "<table border=\"1\" class=\"dataframe\">\n",
       "  <thead>\n",
       "    <tr style=\"text-align: right;\">\n",
       "      <th></th>\n",
       "      <th>LotArea</th>\n",
       "      <th>YearBuilt</th>\n",
       "      <th>1stFlrSF</th>\n",
       "      <th>2ndFlrSF</th>\n",
       "      <th>FullBath</th>\n",
       "      <th>BedroomAbvGr</th>\n",
       "      <th>TotRmsAbvGrd</th>\n",
       "    </tr>\n",
       "  </thead>\n",
       "  <tbody>\n",
       "    <tr>\n",
       "      <th>0</th>\n",
       "      <td>8450</td>\n",
       "      <td>2003</td>\n",
       "      <td>856</td>\n",
       "      <td>854</td>\n",
       "      <td>2</td>\n",
       "      <td>3</td>\n",
       "      <td>8</td>\n",
       "    </tr>\n",
       "    <tr>\n",
       "      <th>1</th>\n",
       "      <td>9600</td>\n",
       "      <td>1976</td>\n",
       "      <td>1262</td>\n",
       "      <td>0</td>\n",
       "      <td>2</td>\n",
       "      <td>3</td>\n",
       "      <td>6</td>\n",
       "    </tr>\n",
       "    <tr>\n",
       "      <th>2</th>\n",
       "      <td>11250</td>\n",
       "      <td>2001</td>\n",
       "      <td>920</td>\n",
       "      <td>866</td>\n",
       "      <td>2</td>\n",
       "      <td>3</td>\n",
       "      <td>6</td>\n",
       "    </tr>\n",
       "    <tr>\n",
       "      <th>3</th>\n",
       "      <td>9550</td>\n",
       "      <td>1915</td>\n",
       "      <td>961</td>\n",
       "      <td>756</td>\n",
       "      <td>1</td>\n",
       "      <td>3</td>\n",
       "      <td>7</td>\n",
       "    </tr>\n",
       "    <tr>\n",
       "      <th>4</th>\n",
       "      <td>14260</td>\n",
       "      <td>2000</td>\n",
       "      <td>1145</td>\n",
       "      <td>1053</td>\n",
       "      <td>2</td>\n",
       "      <td>4</td>\n",
       "      <td>9</td>\n",
       "    </tr>\n",
       "  </tbody>\n",
       "</table>\n",
       "</div>"
      ],
      "text/plain": [
       "   LotArea  YearBuilt  1stFlrSF  2ndFlrSF  FullBath  BedroomAbvGr  \\\n",
       "0     8450       2003       856       854         2             3   \n",
       "1     9600       1976      1262         0         2             3   \n",
       "2    11250       2001       920       866         2             3   \n",
       "3     9550       1915       961       756         1             3   \n",
       "4    14260       2000      1145      1053         2             4   \n",
       "\n",
       "   TotRmsAbvGrd  \n",
       "0             8  \n",
       "1             6  \n",
       "2             6  \n",
       "3             7  \n",
       "4             9  "
      ]
     },
     "execution_count": 5,
     "metadata": {},
     "output_type": "execute_result"
    }
   ],
   "source": [
    "features = ['LotArea', 'YearBuilt', '1stFlrSF', '2ndFlrSF', 'FullBath', 'BedroomAbvGr', 'TotRmsAbvGrd']\n",
    "\n",
    "# Select columns corresponding to features, and preview the data\n",
    "X = home_data[features]\n",
    "X.head()"
   ]
  },
  {
   "cell_type": "markdown",
   "id": "9acea45e",
   "metadata": {
    "papermill": {
     "duration": 0.004702,
     "end_time": "2025-03-12T00:31:07.441700",
     "exception": false,
     "start_time": "2025-03-12T00:31:07.436998",
     "status": "completed"
    },
    "tags": []
   },
   "source": [
    "# Split X and y into validation and training data"
   ]
  },
  {
   "cell_type": "code",
   "execution_count": 6,
   "id": "0cd2b983",
   "metadata": {
    "execution": {
     "iopub.execute_input": "2025-03-12T00:31:07.452517Z",
     "iopub.status.busy": "2025-03-12T00:31:07.452173Z",
     "iopub.status.idle": "2025-03-12T00:31:07.460239Z",
     "shell.execute_reply": "2025-03-12T00:31:07.459286Z"
    },
    "papermill": {
     "duration": 0.015522,
     "end_time": "2025-03-12T00:31:07.462123",
     "exception": false,
     "start_time": "2025-03-12T00:31:07.446601",
     "status": "completed"
    },
    "tags": []
   },
   "outputs": [],
   "source": [
    "train_X, val_X, train_y, val_y = train_test_split(X, y, random_state=1)"
   ]
  },
  {
   "cell_type": "markdown",
   "id": "48b77a2e",
   "metadata": {
    "papermill": {
     "duration": 0.004174,
     "end_time": "2025-03-12T00:31:07.470842",
     "exception": false,
     "start_time": "2025-03-12T00:31:07.466668",
     "status": "completed"
    },
    "tags": []
   },
   "source": [
    "# Validation Model"
   ]
  },
  {
   "cell_type": "code",
   "execution_count": 7,
   "id": "00d6f14f",
   "metadata": {
    "execution": {
     "iopub.execute_input": "2025-03-12T00:31:07.480799Z",
     "iopub.status.busy": "2025-03-12T00:31:07.480473Z",
     "iopub.status.idle": "2025-03-12T00:31:07.959011Z",
     "shell.execute_reply": "2025-03-12T00:31:07.957948Z"
    },
    "papermill": {
     "duration": 0.485737,
     "end_time": "2025-03-12T00:31:07.960906",
     "exception": false,
     "start_time": "2025-03-12T00:31:07.475169",
     "status": "completed"
    },
    "tags": []
   },
   "outputs": [
    {
     "data": {
      "text/html": [
       "<style>#sk-container-id-1 {color: black;background-color: white;}#sk-container-id-1 pre{padding: 0;}#sk-container-id-1 div.sk-toggleable {background-color: white;}#sk-container-id-1 label.sk-toggleable__label {cursor: pointer;display: block;width: 100%;margin-bottom: 0;padding: 0.3em;box-sizing: border-box;text-align: center;}#sk-container-id-1 label.sk-toggleable__label-arrow:before {content: \"▸\";float: left;margin-right: 0.25em;color: #696969;}#sk-container-id-1 label.sk-toggleable__label-arrow:hover:before {color: black;}#sk-container-id-1 div.sk-estimator:hover label.sk-toggleable__label-arrow:before {color: black;}#sk-container-id-1 div.sk-toggleable__content {max-height: 0;max-width: 0;overflow: hidden;text-align: left;background-color: #f0f8ff;}#sk-container-id-1 div.sk-toggleable__content pre {margin: 0.2em;color: black;border-radius: 0.25em;background-color: #f0f8ff;}#sk-container-id-1 input.sk-toggleable__control:checked~div.sk-toggleable__content {max-height: 200px;max-width: 100%;overflow: auto;}#sk-container-id-1 input.sk-toggleable__control:checked~label.sk-toggleable__label-arrow:before {content: \"▾\";}#sk-container-id-1 div.sk-estimator input.sk-toggleable__control:checked~label.sk-toggleable__label {background-color: #d4ebff;}#sk-container-id-1 div.sk-label input.sk-toggleable__control:checked~label.sk-toggleable__label {background-color: #d4ebff;}#sk-container-id-1 input.sk-hidden--visually {border: 0;clip: rect(1px 1px 1px 1px);clip: rect(1px, 1px, 1px, 1px);height: 1px;margin: -1px;overflow: hidden;padding: 0;position: absolute;width: 1px;}#sk-container-id-1 div.sk-estimator {font-family: monospace;background-color: #f0f8ff;border: 1px dotted black;border-radius: 0.25em;box-sizing: border-box;margin-bottom: 0.5em;}#sk-container-id-1 div.sk-estimator:hover {background-color: #d4ebff;}#sk-container-id-1 div.sk-parallel-item::after {content: \"\";width: 100%;border-bottom: 1px solid gray;flex-grow: 1;}#sk-container-id-1 div.sk-label:hover label.sk-toggleable__label {background-color: #d4ebff;}#sk-container-id-1 div.sk-serial::before {content: \"\";position: absolute;border-left: 1px solid gray;box-sizing: border-box;top: 0;bottom: 0;left: 50%;z-index: 0;}#sk-container-id-1 div.sk-serial {display: flex;flex-direction: column;align-items: center;background-color: white;padding-right: 0.2em;padding-left: 0.2em;position: relative;}#sk-container-id-1 div.sk-item {position: relative;z-index: 1;}#sk-container-id-1 div.sk-parallel {display: flex;align-items: stretch;justify-content: center;background-color: white;position: relative;}#sk-container-id-1 div.sk-item::before, #sk-container-id-1 div.sk-parallel-item::before {content: \"\";position: absolute;border-left: 1px solid gray;box-sizing: border-box;top: 0;bottom: 0;left: 50%;z-index: -1;}#sk-container-id-1 div.sk-parallel-item {display: flex;flex-direction: column;z-index: 1;position: relative;background-color: white;}#sk-container-id-1 div.sk-parallel-item:first-child::after {align-self: flex-end;width: 50%;}#sk-container-id-1 div.sk-parallel-item:last-child::after {align-self: flex-start;width: 50%;}#sk-container-id-1 div.sk-parallel-item:only-child::after {width: 0;}#sk-container-id-1 div.sk-dashed-wrapped {border: 1px dashed gray;margin: 0 0.4em 0.5em 0.4em;box-sizing: border-box;padding-bottom: 0.4em;background-color: white;}#sk-container-id-1 div.sk-label label {font-family: monospace;font-weight: bold;display: inline-block;line-height: 1.2em;}#sk-container-id-1 div.sk-label-container {text-align: center;}#sk-container-id-1 div.sk-container {/* jupyter's `normalize.less` sets `[hidden] { display: none; }` but bootstrap.min.css set `[hidden] { display: none !important; }` so we also need the `!important` here to be able to override the default hidden behavior on the sphinx rendered scikit-learn.org. See: https://github.com/scikit-learn/scikit-learn/issues/21755 */display: inline-block !important;position: relative;}#sk-container-id-1 div.sk-text-repr-fallback {display: none;}</style><div id=\"sk-container-id-1\" class=\"sk-top-container\"><div class=\"sk-text-repr-fallback\"><pre>RandomForestRegressor(random_state=1)</pre><b>In a Jupyter environment, please rerun this cell to show the HTML representation or trust the notebook. <br />On GitHub, the HTML representation is unable to render, please try loading this page with nbviewer.org.</b></div><div class=\"sk-container\" hidden><div class=\"sk-item\"><div class=\"sk-estimator sk-toggleable\"><input class=\"sk-toggleable__control sk-hidden--visually\" id=\"sk-estimator-id-1\" type=\"checkbox\" checked><label for=\"sk-estimator-id-1\" class=\"sk-toggleable__label sk-toggleable__label-arrow\">RandomForestRegressor</label><div class=\"sk-toggleable__content\"><pre>RandomForestRegressor(random_state=1)</pre></div></div></div></div></div>"
      ],
      "text/plain": [
       "RandomForestRegressor(random_state=1)"
      ]
     },
     "execution_count": 7,
     "metadata": {},
     "output_type": "execute_result"
    }
   ],
   "source": [
    "rf_model = RandomForestRegressor(random_state=1)\n",
    "rf_model.fit(train_X, train_y)"
   ]
  },
  {
   "cell_type": "markdown",
   "id": "7fda704e",
   "metadata": {
    "papermill": {
     "duration": 0.004441,
     "end_time": "2025-03-12T00:31:07.970295",
     "exception": false,
     "start_time": "2025-03-12T00:31:07.965854",
     "status": "completed"
    },
    "tags": []
   },
   "source": [
    "## Validate Model"
   ]
  },
  {
   "cell_type": "code",
   "execution_count": 8,
   "id": "9f55acb2",
   "metadata": {
    "execution": {
     "iopub.execute_input": "2025-03-12T00:31:07.981371Z",
     "iopub.status.busy": "2025-03-12T00:31:07.980949Z",
     "iopub.status.idle": "2025-03-12T00:31:07.999691Z",
     "shell.execute_reply": "2025-03-12T00:31:07.998450Z"
    },
    "papermill": {
     "duration": 0.026528,
     "end_time": "2025-03-12T00:31:08.001471",
     "exception": false,
     "start_time": "2025-03-12T00:31:07.974943",
     "status": "completed"
    },
    "tags": []
   },
   "outputs": [
    {
     "name": "stdout",
     "output_type": "stream",
     "text": [
      "Validation MAE for Random Forest Model: 21,857\n"
     ]
    }
   ],
   "source": [
    "rf_val_predictions = rf_model.predict(val_X)\n",
    "rf_val_mae = mean_absolute_error(rf_val_predictions, val_y)\n",
    "print(\"Validation MAE for Random Forest Model: {:,.0f}\".format(rf_val_mae))"
   ]
  },
  {
   "cell_type": "markdown",
   "id": "0b409961",
   "metadata": {
    "papermill": {
     "duration": 0.004694,
     "end_time": "2025-03-12T00:31:08.011296",
     "exception": false,
     "start_time": "2025-03-12T00:31:08.006602",
     "status": "completed"
    },
    "tags": []
   },
   "source": [
    "# Competition Model"
   ]
  },
  {
   "cell_type": "code",
   "execution_count": 9,
   "id": "9681f376",
   "metadata": {
    "execution": {
     "iopub.execute_input": "2025-03-12T00:31:08.022011Z",
     "iopub.status.busy": "2025-03-12T00:31:08.021671Z",
     "iopub.status.idle": "2025-03-12T00:31:08.610359Z",
     "shell.execute_reply": "2025-03-12T00:31:08.609277Z"
    },
    "papermill": {
     "duration": 0.596171,
     "end_time": "2025-03-12T00:31:08.612147",
     "exception": false,
     "start_time": "2025-03-12T00:31:08.015976",
     "status": "completed"
    },
    "tags": []
   },
   "outputs": [
    {
     "data": {
      "text/html": [
       "<style>#sk-container-id-2 {color: black;background-color: white;}#sk-container-id-2 pre{padding: 0;}#sk-container-id-2 div.sk-toggleable {background-color: white;}#sk-container-id-2 label.sk-toggleable__label {cursor: pointer;display: block;width: 100%;margin-bottom: 0;padding: 0.3em;box-sizing: border-box;text-align: center;}#sk-container-id-2 label.sk-toggleable__label-arrow:before {content: \"▸\";float: left;margin-right: 0.25em;color: #696969;}#sk-container-id-2 label.sk-toggleable__label-arrow:hover:before {color: black;}#sk-container-id-2 div.sk-estimator:hover label.sk-toggleable__label-arrow:before {color: black;}#sk-container-id-2 div.sk-toggleable__content {max-height: 0;max-width: 0;overflow: hidden;text-align: left;background-color: #f0f8ff;}#sk-container-id-2 div.sk-toggleable__content pre {margin: 0.2em;color: black;border-radius: 0.25em;background-color: #f0f8ff;}#sk-container-id-2 input.sk-toggleable__control:checked~div.sk-toggleable__content {max-height: 200px;max-width: 100%;overflow: auto;}#sk-container-id-2 input.sk-toggleable__control:checked~label.sk-toggleable__label-arrow:before {content: \"▾\";}#sk-container-id-2 div.sk-estimator input.sk-toggleable__control:checked~label.sk-toggleable__label {background-color: #d4ebff;}#sk-container-id-2 div.sk-label input.sk-toggleable__control:checked~label.sk-toggleable__label {background-color: #d4ebff;}#sk-container-id-2 input.sk-hidden--visually {border: 0;clip: rect(1px 1px 1px 1px);clip: rect(1px, 1px, 1px, 1px);height: 1px;margin: -1px;overflow: hidden;padding: 0;position: absolute;width: 1px;}#sk-container-id-2 div.sk-estimator {font-family: monospace;background-color: #f0f8ff;border: 1px dotted black;border-radius: 0.25em;box-sizing: border-box;margin-bottom: 0.5em;}#sk-container-id-2 div.sk-estimator:hover {background-color: #d4ebff;}#sk-container-id-2 div.sk-parallel-item::after {content: \"\";width: 100%;border-bottom: 1px solid gray;flex-grow: 1;}#sk-container-id-2 div.sk-label:hover label.sk-toggleable__label {background-color: #d4ebff;}#sk-container-id-2 div.sk-serial::before {content: \"\";position: absolute;border-left: 1px solid gray;box-sizing: border-box;top: 0;bottom: 0;left: 50%;z-index: 0;}#sk-container-id-2 div.sk-serial {display: flex;flex-direction: column;align-items: center;background-color: white;padding-right: 0.2em;padding-left: 0.2em;position: relative;}#sk-container-id-2 div.sk-item {position: relative;z-index: 1;}#sk-container-id-2 div.sk-parallel {display: flex;align-items: stretch;justify-content: center;background-color: white;position: relative;}#sk-container-id-2 div.sk-item::before, #sk-container-id-2 div.sk-parallel-item::before {content: \"\";position: absolute;border-left: 1px solid gray;box-sizing: border-box;top: 0;bottom: 0;left: 50%;z-index: -1;}#sk-container-id-2 div.sk-parallel-item {display: flex;flex-direction: column;z-index: 1;position: relative;background-color: white;}#sk-container-id-2 div.sk-parallel-item:first-child::after {align-self: flex-end;width: 50%;}#sk-container-id-2 div.sk-parallel-item:last-child::after {align-self: flex-start;width: 50%;}#sk-container-id-2 div.sk-parallel-item:only-child::after {width: 0;}#sk-container-id-2 div.sk-dashed-wrapped {border: 1px dashed gray;margin: 0 0.4em 0.5em 0.4em;box-sizing: border-box;padding-bottom: 0.4em;background-color: white;}#sk-container-id-2 div.sk-label label {font-family: monospace;font-weight: bold;display: inline-block;line-height: 1.2em;}#sk-container-id-2 div.sk-label-container {text-align: center;}#sk-container-id-2 div.sk-container {/* jupyter's `normalize.less` sets `[hidden] { display: none; }` but bootstrap.min.css set `[hidden] { display: none !important; }` so we also need the `!important` here to be able to override the default hidden behavior on the sphinx rendered scikit-learn.org. See: https://github.com/scikit-learn/scikit-learn/issues/21755 */display: inline-block !important;position: relative;}#sk-container-id-2 div.sk-text-repr-fallback {display: none;}</style><div id=\"sk-container-id-2\" class=\"sk-top-container\"><div class=\"sk-text-repr-fallback\"><pre>RandomForestRegressor(random_state=1)</pre><b>In a Jupyter environment, please rerun this cell to show the HTML representation or trust the notebook. <br />On GitHub, the HTML representation is unable to render, please try loading this page with nbviewer.org.</b></div><div class=\"sk-container\" hidden><div class=\"sk-item\"><div class=\"sk-estimator sk-toggleable\"><input class=\"sk-toggleable__control sk-hidden--visually\" id=\"sk-estimator-id-2\" type=\"checkbox\" checked><label for=\"sk-estimator-id-2\" class=\"sk-toggleable__label sk-toggleable__label-arrow\">RandomForestRegressor</label><div class=\"sk-toggleable__content\"><pre>RandomForestRegressor(random_state=1)</pre></div></div></div></div></div>"
      ],
      "text/plain": [
       "RandomForestRegressor(random_state=1)"
      ]
     },
     "execution_count": 9,
     "metadata": {},
     "output_type": "execute_result"
    }
   ],
   "source": [
    "# To improve accuracy, create a new Random Forest model which you will train on all training data\n",
    "rf_model_on_full_data = RandomForestRegressor(random_state=1)\n",
    "\n",
    "# fit rf_model_on_full_data on all data from the training data\n",
    "rf_model_on_full_data.fit(X, y)"
   ]
  },
  {
   "cell_type": "markdown",
   "id": "9b9443b6",
   "metadata": {
    "papermill": {
     "duration": 0.004621,
     "end_time": "2025-03-12T00:31:08.622008",
     "exception": false,
     "start_time": "2025-03-12T00:31:08.617387",
     "status": "completed"
    },
    "tags": []
   },
   "source": [
    "## Test Model"
   ]
  },
  {
   "cell_type": "code",
   "execution_count": 10,
   "id": "988b872c",
   "metadata": {
    "execution": {
     "iopub.execute_input": "2025-03-12T00:31:08.633050Z",
     "iopub.status.busy": "2025-03-12T00:31:08.632631Z",
     "iopub.status.idle": "2025-03-12T00:31:08.697044Z",
     "shell.execute_reply": "2025-03-12T00:31:08.695869Z"
    },
    "papermill": {
     "duration": 0.071938,
     "end_time": "2025-03-12T00:31:08.698849",
     "exception": false,
     "start_time": "2025-03-12T00:31:08.626911",
     "status": "completed"
    },
    "tags": []
   },
   "outputs": [],
   "source": [
    "# path to file you will use for predictions\n",
    "test_data_path = '../input/house-prices-advanced-regression-techniques/test.csv'\n",
    "\n",
    "# read test data file using pandas\n",
    "test_data = pd.read_csv(test_data_path)\n",
    "\n",
    "# create test_X which comes from test_data but includes only the columns you used for prediction.\n",
    "# The list of columns is stored in a variable called features\n",
    "test_X = test_data[features]\n",
    "\n",
    "# make predictions which we will submit. \n",
    "test_preds = rf_model_on_full_data.predict(test_X)"
   ]
  },
  {
   "cell_type": "markdown",
   "id": "1809daee",
   "metadata": {
    "papermill": {
     "duration": 0.004684,
     "end_time": "2025-03-12T00:31:08.708585",
     "exception": false,
     "start_time": "2025-03-12T00:31:08.703901",
     "status": "completed"
    },
    "tags": []
   },
   "source": [
    "## Generate a submission"
   ]
  },
  {
   "cell_type": "code",
   "execution_count": 11,
   "id": "96820f9a",
   "metadata": {
    "execution": {
     "iopub.execute_input": "2025-03-12T00:31:08.719406Z",
     "iopub.status.busy": "2025-03-12T00:31:08.719080Z",
     "iopub.status.idle": "2025-03-12T00:31:08.731910Z",
     "shell.execute_reply": "2025-03-12T00:31:08.730847Z"
    },
    "papermill": {
     "duration": 0.020541,
     "end_time": "2025-03-12T00:31:08.733932",
     "exception": false,
     "start_time": "2025-03-12T00:31:08.713391",
     "status": "completed"
    },
    "tags": []
   },
   "outputs": [],
   "source": [
    "# Run the code to save predictions in the format used for competition scoring\n",
    "\n",
    "output = pd.DataFrame({'Id': test_data.Id,\n",
    "                       'SalePrice': test_preds})\n",
    "output.to_csv('submission.csv', index=False)"
   ]
  }
 ],
 "metadata": {
  "kaggle": {
   "accelerator": "none",
   "dataSources": [
    {
     "databundleVersionId": 868283,
     "sourceId": 5407,
     "sourceType": "competition"
    }
   ],
   "dockerImageVersionId": 30918,
   "isGpuEnabled": false,
   "isInternetEnabled": true,
   "language": "python",
   "sourceType": "notebook"
  },
  "kernelspec": {
   "display_name": "Python 3",
   "language": "python",
   "name": "python3"
  },
  "language_info": {
   "codemirror_mode": {
    "name": "ipython",
    "version": 3
   },
   "file_extension": ".py",
   "mimetype": "text/x-python",
   "name": "python",
   "nbconvert_exporter": "python",
   "pygments_lexer": "ipython3",
   "version": "3.10.12"
  },
  "papermill": {
   "default_parameters": {},
   "duration": 9.476471,
   "end_time": "2025-03-12T00:31:09.459877",
   "environment_variables": {},
   "exception": null,
   "input_path": "__notebook__.ipynb",
   "output_path": "__notebook__.ipynb",
   "parameters": {},
   "start_time": "2025-03-12T00:30:59.983406",
   "version": "2.6.0"
  }
 },
 "nbformat": 4,
 "nbformat_minor": 5
}
