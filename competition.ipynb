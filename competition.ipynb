{
 "cells": [
  {
   "cell_type": "markdown",
   "id": "f6812f53",
   "metadata": {
    "papermill": {
     "duration": 0.005562,
     "end_time": "2025-03-30T02:13:08.884605",
     "exception": false,
     "start_time": "2025-03-30T02:13:08.879043",
     "status": "completed"
    },
    "tags": []
   },
   "source": [
    "# Setup"
   ]
  },
  {
   "cell_type": "code",
   "execution_count": 1,
   "id": "f6c87bb6",
   "metadata": {
    "execution": {
     "iopub.execute_input": "2025-03-30T02:13:08.896141Z",
     "iopub.status.busy": "2025-03-30T02:13:08.895774Z",
     "iopub.status.idle": "2025-03-30T02:13:08.902810Z",
     "shell.execute_reply": "2025-03-30T02:13:08.901957Z"
    },
    "papermill": {
     "duration": 0.014786,
     "end_time": "2025-03-30T02:13:08.904525",
     "exception": false,
     "start_time": "2025-03-30T02:13:08.889739",
     "status": "completed"
    },
    "tags": []
   },
   "outputs": [
    {
     "name": "stdout",
     "output_type": "stream",
     "text": [
      "/kaggle/input/house-prices-advanced-regression-techniques/sample_submission.csv\n",
      "/kaggle/input/house-prices-advanced-regression-techniques/data_description.txt\n",
      "/kaggle/input/house-prices-advanced-regression-techniques/train.csv\n",
      "/kaggle/input/house-prices-advanced-regression-techniques/test.csv\n"
     ]
    }
   ],
   "source": [
    "# Print Data directories\n",
    "import os\n",
    "for dirname, _, filenames in os.walk('/kaggle/input'):\n",
    "    for filename in filenames:\n",
    "        print(os.path.join(dirname, filename))"
   ]
  },
  {
   "cell_type": "code",
   "execution_count": 2,
   "id": "141a9363",
   "metadata": {
    "execution": {
     "iopub.execute_input": "2025-03-30T02:13:08.915588Z",
     "iopub.status.busy": "2025-03-30T02:13:08.915384Z",
     "iopub.status.idle": "2025-03-30T02:13:21.872722Z",
     "shell.execute_reply": "2025-03-30T02:13:21.871994Z"
    },
    "papermill": {
     "duration": 12.964666,
     "end_time": "2025-03-30T02:13:21.874280",
     "exception": false,
     "start_time": "2025-03-30T02:13:08.909614",
     "status": "completed"
    },
    "tags": []
   },
   "outputs": [],
   "source": [
    "# Import helpful libraries\n",
    "import numpy as np\n",
    "import pandas as pd\n",
    "from cuml.ensemble import RandomForestRegressor\n",
    "from sklearn.metrics import mean_absolute_error\n",
    "from sklearn.model_selection import train_test_split, cross_val_score, KFold\n",
    "from sklearn.impute import SimpleImputer\n",
    "from sklearn.compose import ColumnTransformer\n",
    "import category_encoders as ce\n",
    "import xgboost as xgb\n",
    "from sklearn.preprocessing import StandardScaler\n",
    "from xgboost import XGBRegressor\n",
    "# from sklearn.linear_model import Ridge\n",
    "from sklearn.ensemble import StackingRegressor\n",
    "import optuna\n",
    "import warnings\n",
    "warnings.filterwarnings('ignore')\n",
    "from cuml.linear_model import Lasso, Ridge, LinearRegression\n",
    "from xgboost import XGBRegressor\n",
    "from lightgbm import LGBMRegressor\n",
    "from sklearn.neural_network import MLPRegressor\n",
    "from sklearn.metrics import mean_absolute_error, mean_squared_error\n",
    "import matplotlib.pyplot as plt\n"
   ]
  },
  {
   "cell_type": "code",
   "execution_count": 3,
   "id": "ce7c51a8",
   "metadata": {
    "_cell_guid": "b1076dfc-b9ad-4769-8c92-a6c4dae69d19",
    "_uuid": "8f2839f25d086af736a60e9eeb907d3b93b6e0e5",
    "execution": {
     "iopub.execute_input": "2025-03-30T02:13:21.885698Z",
     "iopub.status.busy": "2025-03-30T02:13:21.885459Z",
     "iopub.status.idle": "2025-03-30T02:13:21.939066Z",
     "shell.execute_reply": "2025-03-30T02:13:21.938285Z"
    },
    "papermill": {
     "duration": 0.060975,
     "end_time": "2025-03-30T02:13:21.940639",
     "exception": false,
     "start_time": "2025-03-30T02:13:21.879664",
     "status": "completed"
    },
    "tags": []
   },
   "outputs": [
    {
     "name": "stdout",
     "output_type": "stream",
     "text": [
      "Train shape: (1460, 81)\n",
      "Train shape: (1459, 80)\n"
     ]
    }
   ],
   "source": [
    "# Save Data Paths\n",
    "train_path = '../input/house-prices-advanced-regression-techniques/train.csv'\n",
    "test_path = '../input/house-prices-advanced-regression-techniques/test.csv'\n",
    "\n",
    "# Read data\n",
    "train = pd.read_csv(train_path)\n",
    "test = pd.read_csv(test_path)\n",
    "\n",
    "target = 'SalePrice'\n",
    "\n",
    "# Look at the shape of the data\n",
    "print('Train shape:', train.shape)\n",
    "print('Train shape:', test.shape)"
   ]
  },
  {
   "cell_type": "markdown",
   "id": "451b7112",
   "metadata": {
    "papermill": {
     "duration": 0.005361,
     "end_time": "2025-03-30T02:13:21.951956",
     "exception": false,
     "start_time": "2025-03-30T02:13:21.946595",
     "status": "completed"
    },
    "tags": []
   },
   "source": [
    "# Preprocessing"
   ]
  },
  {
   "cell_type": "code",
   "execution_count": 4,
   "id": "b5b814f6",
   "metadata": {
    "execution": {
     "iopub.execute_input": "2025-03-30T02:13:21.962755Z",
     "iopub.status.busy": "2025-03-30T02:13:21.962543Z",
     "iopub.status.idle": "2025-03-30T02:13:21.974204Z",
     "shell.execute_reply": "2025-03-30T02:13:21.973602Z"
    },
    "papermill": {
     "duration": 0.018414,
     "end_time": "2025-03-30T02:13:21.975411",
     "exception": false,
     "start_time": "2025-03-30T02:13:21.956997",
     "status": "completed"
    },
    "tags": []
   },
   "outputs": [],
   "source": [
    "# Concat all data\n",
    "house = pd.concat([train, test])"
   ]
  },
  {
   "cell_type": "markdown",
   "id": "c825554e",
   "metadata": {
    "papermill": {
     "duration": 0.00519,
     "end_time": "2025-03-30T02:13:21.985556",
     "exception": false,
     "start_time": "2025-03-30T02:13:21.980366",
     "status": "completed"
    },
    "tags": []
   },
   "source": [
    "## Deal With Missing Values"
   ]
  },
  {
   "cell_type": "code",
   "execution_count": 5,
   "id": "fd64206d",
   "metadata": {
    "execution": {
     "iopub.execute_input": "2025-03-30T02:13:21.996555Z",
     "iopub.status.busy": "2025-03-30T02:13:21.996349Z",
     "iopub.status.idle": "2025-03-30T02:13:22.033685Z",
     "shell.execute_reply": "2025-03-30T02:13:22.033102Z"
    },
    "papermill": {
     "duration": 0.044292,
     "end_time": "2025-03-30T02:13:22.034928",
     "exception": false,
     "start_time": "2025-03-30T02:13:21.990636",
     "status": "completed"
    },
    "tags": []
   },
   "outputs": [],
   "source": [
    "# Separate numerical and categorical columns\n",
    "num_cols = house.select_dtypes(include=['number']).columns\n",
    "cat_cols = house.select_dtypes(exclude=['number']).columns\n",
    "\n",
    "# Apply imputers separately\n",
    "house[num_cols] = SimpleImputer(strategy='mean').fit_transform(house[num_cols])\n",
    "house[cat_cols] = SimpleImputer(strategy='constant', fill_value='MISSING').fit_transform(house[cat_cols])\n",
    "\n",
    "# preserve Id dtype\n",
    "house['Id'] = house['Id'].astype('int')"
   ]
  },
  {
   "cell_type": "markdown",
   "id": "e63c9ef3",
   "metadata": {
    "papermill": {
     "duration": 0.00513,
     "end_time": "2025-03-30T02:13:22.045231",
     "exception": false,
     "start_time": "2025-03-30T02:13:22.040101",
     "status": "completed"
    },
    "tags": []
   },
   "source": [
    "## Feature Engineering"
   ]
  },
  {
   "cell_type": "code",
   "execution_count": 6,
   "id": "da7147ee",
   "metadata": {
    "execution": {
     "iopub.execute_input": "2025-03-30T02:13:22.056044Z",
     "iopub.status.busy": "2025-03-30T02:13:22.055831Z",
     "iopub.status.idle": "2025-03-30T02:13:22.128416Z",
     "shell.execute_reply": "2025-03-30T02:13:22.127849Z"
    },
    "papermill": {
     "duration": 0.079352,
     "end_time": "2025-03-30T02:13:22.129705",
     "exception": false,
     "start_time": "2025-03-30T02:13:22.050353",
     "status": "completed"
    },
    "tags": []
   },
   "outputs": [],
   "source": [
    "# Create new features\n",
    "house['TotalArea'] = house['TotalBsmtSF'] + house['1stFlrSF'] + house['2ndFlrSF']\n",
    "\n",
    "\n",
    "# Age-Based Features\n",
    "house['HouseAge'] = house['YrSold'] - house['YearBuilt']\n",
    "house['YearsSinceRemodel'] = house['YrSold'] - house['YearRemodAdd']\n",
    "house['GarageAge'] = house['YrSold'] - house['GarageYrBlt']\n",
    "\n",
    "# Size-Based Features\n",
    "house['TotalSF'] = house['TotalBsmtSF'] + house['1stFlrSF'] + house['2ndFlrSF']\n",
    "house['AboveGradeSF'] = house['GrLivArea']\n",
    "house['BasementSF'] = house['TotalBsmtSF']\n",
    "house['FirstFlrSF'] = house['1stFlrSF']\n",
    "house['SecondFlrSF'] = house['2ndFlrSF']\n",
    "\n",
    "# Bathroom Features\n",
    "house['TotalBath'] = house['FullBath'] + (house['HalfBath'] * 0.5) + house['BsmtFullBath'] + (house['BsmtHalfBath'] * 0.5)\n",
    "house['FullBathAboveGrade'] = house['FullBath']\n",
    "house['HalfBathAboveGrade'] = house['HalfBath']\n",
    "house['TotalBsmtBath'] = house['BsmtFullBath'] + house['BsmtHalfBath']\n",
    "\n",
    "# Fireplaces & Features\n",
    "house['HasFireplace'] = house['Fireplaces'].apply(lambda x: 1 if x > 0 else 0)\n",
    "house['FireplaceQuality'] = house['FireplaceQu'].map({'Ex': 5, 'Gd': 4, 'TA': 3, 'Fa': 2, 'Po': 1, 'MISSING': 0})\n",
    "house['HasPool'] = house['PoolArea'].apply(lambda x: 1 if x > 0 else 0)\n",
    "\n",
    "# Exterior & Structural Features\n",
    "house['HasGarage'] = house['GarageArea'].apply(lambda x: 1 if x > 0 else 0)\n",
    "house['GarageAge'] = house['YrSold'] - house['GarageYrBlt']\n",
    "house['GarageQuality'] = house['GarageQual'].map({'Ex': 5, 'Gd': 4, 'TA': 3, 'Fa': 2, 'Po': 1, 'MISSING': 0})\n",
    "house['GarageCondition'] = house['GarageCond'].map({'Ex': 5, 'Gd': 4, 'TA': 3, 'Fa': 2, 'Po': 1, 'MISSING': 0})\n",
    "\n",
    "# Porch & Outdoor Features\n",
    "house['TotalPorchSF'] = house['OpenPorchSF'] + house['EnclosedPorch'] + house['3SsnPorch'] + house['ScreenPorch']\n",
    "house['HasDeck'] = house['WoodDeckSF'].apply(lambda x: 1 if x > 0 else 0)\n",
    "\n",
    "# Lot Features\n",
    "house['LotSize'] = house['LotArea']\n",
    "house['LotFrontageCategory'] = pd.cut(house['LotFrontage'], bins=[0, 50, 100, 150, 200, np.inf], labels=['Small', 'Medium', 'Large', 'Very Large', 'Huge'])\n",
    "house['LotShapeReg'] = house['LotShape'].apply(lambda x: 1 if x == 'Reg' else 0)\n",
    "house['LotShapeIR'] = house['LotShape'].apply(lambda x: 1 if x != 'Reg' else 0)\n",
    "\n",
    "# Quality and Condition Features\n",
    "house['QualCond'] = house['OverallQual'] * house['OverallCond']\n",
    "house['HasExteriorQual'] = house['ExterQual'].apply(lambda x: 1 if x == 'Ex' else 0)\n",
    "house['HasBasementQual'] = house['BsmtQual'].apply(lambda x: 1 if x == 'Ex' or x == 'Gd' else 0)\n",
    "\n",
    "# Zoning and Neighborhood\n",
    "neighborhood_quality = house.groupby('Neighborhood')['OverallQual'].mean()\n",
    "house['NeighborhoodQuality'] = house['Neighborhood'].map(neighborhood_quality)\n",
    "\n",
    "zoning_quality = house.groupby('MSZoning')['OverallQual'].mean()\n",
    "house['ZoningQuality'] = house['MSZoning'].map(zoning_quality)\n",
    "\n",
    "# Functional Features\n",
    "house['FunctionalQuality'] = house['Functional'].apply(lambda x: 0 if x == 'Typ' else (1 if x in ['Min1', 'Min2'] else (2 if x in ['Mod', 'Maj1', 'Maj2'] else 3)))\n",
    "\n",
    "# Interaction Features\n",
    "house['FireplaceGarage'] = house['HasFireplace'] * house['HasGarage']\n",
    "house['StyleQuality'] = house['HouseStyle'].map(lambda x: {'1Story': 1, '2Story': 2, 'SFoyer': 3}.get(x, 0)) * house['OverallQual']\n",
    "\n",
    "# Transformation of Skewed Features\n",
    "house['LogGrLivArea'] = np.log1p(house['GrLivArea'])\n",
    "house['LogTotalSF'] = np.log1p(house['TotalSF'])\n",
    "house['LogLotArea'] = np.log1p(house['LotArea'])\n",
    "house['LogLotSize'] = np.log1p(house['LotSize'])\n",
    "\n",
    "# Ratio Features\n",
    "house['LivingToLotRatio'] = house['GrLivArea'] / house['LotArea']\n",
    "house['GarageToHouseArea'] = house['GarageArea'] / house['GrLivArea']\n",
    "house['BasementToTotalSF'] = house['TotalBsmtSF'] / house['TotalSF']\n",
    "\n",
    "# # Categorical Feature Encodings\n",
    "# house['ZoningLotConfig'] = house['MSZoning'] + \"_\" + house['LotConfig']\n",
    "# house['GarageTypeEncoded'] = house['GarageType'].map({'Attchd': 1, 'Detchd': 2, 'BuiltIn': 3, 'Basment': 4, 'CarPort': 5, 'MISSING': 0})\n",
    "# house['NeighborhoodGarageFinish'] = house['Neighborhood'] + \"_\" + house['GarageFinish'].fillna('MISSING')\n",
    "\n",
    "# Interaction of Structural and Exterior Features\n",
    "# house['TotalRoomsPerStyle'] = house['TotRmsAbvGrd'] / house['HouseStyle'].map({'1Story': 1, '2Story': 2, 'SFoyer': 3, 'SLvl': 4, '2.5Fin': 5})\n",
    "house['PorchAndPool'] = house['HasDeck'] * house['HasPool']\n",
    "house['QualPoolArea'] = house['OverallQual'] * house['PoolArea']\n",
    "\n",
    "# More Features from Quality and Condition\n",
    "house['QualityBasement'] = house['OverallQual'] * house['BsmtQual'].map({'Ex': 5, 'Gd': 4, 'TA': 3, 'Fa': 2, 'Po': 1, 'MISSING': 0})\n",
    "house['ConditionGarage'] = house['OverallCond'] * house['GarageQual'].map({'Ex': 5, 'Gd': 4, 'TA': 3, 'Fa': 2, 'Po': 1, 'MISSING': 0})\n",
    "\n",
    "# Additional Date Features\n",
    "house['SaleSeason'] = house['MoSold'].apply(lambda x: 'Spring' if x in [3, 4, 5] else ('Summer' if x in [6, 7, 8] else ('Fall' if x in [9, 10, 11] else 'Winter')))\n",
    "house['BuiltDecade'] = (house['YearBuilt'] // 10) * 10\n",
    "house['SoldDecade'] = (house['YrSold'] // 10) * 10\n",
    "\n",
    "# Multi-Level Features\n",
    "house['FloorAreaToTotal'] = house['1stFlrSF'] / house['TotalSF']\n",
    "# house['FirstToSecondFloor'] = house['1stFlrSF'] / house['2ndFlrSF'] # has 0 division\n",
    "house['ConditionLotConfig'] = house['OverallCond'].astype(str) + '_' + house['LotConfig']\n"
   ]
  },
  {
   "cell_type": "code",
   "execution_count": 7,
   "id": "52a1e232",
   "metadata": {
    "execution": {
     "iopub.execute_input": "2025-03-30T02:13:22.140595Z",
     "iopub.status.busy": "2025-03-30T02:13:22.140365Z",
     "iopub.status.idle": "2025-03-30T02:13:22.159694Z",
     "shell.execute_reply": "2025-03-30T02:13:22.159118Z"
    },
    "papermill": {
     "duration": 0.025996,
     "end_time": "2025-03-30T02:13:22.160909",
     "exception": false,
     "start_time": "2025-03-30T02:13:22.134913",
     "status": "completed"
    },
    "tags": []
   },
   "outputs": [],
   "source": [
    "# Split in train and test data again\n",
    "train = house[house['Id'].isin(train['Id'])]\n",
    "test = house[house['Id'].isin(test['Id'])].drop(target, axis=1)\n",
    "# Separate numerical and categorical columns\n",
    "num_cols = house.select_dtypes(include=['number']).columns\n",
    "cat_cols = house.select_dtypes(exclude=['number']).columns"
   ]
  },
  {
   "cell_type": "markdown",
   "id": "8ae6384d",
   "metadata": {
    "papermill": {
     "duration": 0.005145,
     "end_time": "2025-03-30T02:13:22.171326",
     "exception": false,
     "start_time": "2025-03-30T02:13:22.166181",
     "status": "completed"
    },
    "tags": []
   },
   "source": [
    "## Target Encoding"
   ]
  },
  {
   "cell_type": "code",
   "execution_count": 8,
   "id": "7953af02",
   "metadata": {
    "execution": {
     "iopub.execute_input": "2025-03-30T02:13:22.181731Z",
     "iopub.status.busy": "2025-03-30T02:13:22.181530Z",
     "iopub.status.idle": "2025-03-30T02:13:22.615143Z",
     "shell.execute_reply": "2025-03-30T02:13:22.614455Z"
    },
    "papermill": {
     "duration": 0.440411,
     "end_time": "2025-03-30T02:13:22.616620",
     "exception": false,
     "start_time": "2025-03-30T02:13:22.176209",
     "status": "completed"
    },
    "tags": []
   },
   "outputs": [],
   "source": [
    "# Initialize Target Encoder\n",
    "encoder = ce.TargetEncoder(cols=cat_cols)\n",
    "\n",
    "# Fit on training data and transform (store in a new DataFrame to avoid warnings)\n",
    "train_encoded = encoder.fit_transform(train[cat_cols], train[target])\n",
    "test_encoded = encoder.transform(test[cat_cols])\n",
    "\n",
    "# Assign back safely using `.loc`\n",
    "train.loc[:, cat_cols] = train_encoded\n",
    "test.loc[:, cat_cols] = test_encoded"
   ]
  },
  {
   "cell_type": "markdown",
   "id": "958b50c3",
   "metadata": {
    "papermill": {
     "duration": 0.005067,
     "end_time": "2025-03-30T02:13:22.627053",
     "exception": false,
     "start_time": "2025-03-30T02:13:22.621986",
     "status": "completed"
    },
    "tags": []
   },
   "source": [
    "# Modeling"
   ]
  },
  {
   "cell_type": "code",
   "execution_count": 9,
   "id": "cdf793f3",
   "metadata": {
    "execution": {
     "iopub.execute_input": "2025-03-30T02:13:22.637825Z",
     "iopub.status.busy": "2025-03-30T02:13:22.637590Z",
     "iopub.status.idle": "2025-03-30T02:13:22.644864Z",
     "shell.execute_reply": "2025-03-30T02:13:22.644291Z"
    },
    "papermill": {
     "duration": 0.01399,
     "end_time": "2025-03-30T02:13:22.645974",
     "exception": false,
     "start_time": "2025-03-30T02:13:22.631984",
     "status": "completed"
    },
    "tags": []
   },
   "outputs": [],
   "source": [
    "#Create features\n",
    "features = test.columns\n",
    "# Select columns corresponding to features, and preview the data\n",
    "X = train[features]\n",
    "y = train[target]\n"
   ]
  },
  {
   "cell_type": "markdown",
   "id": "af5d5781",
   "metadata": {
    "papermill": {
     "duration": 0.004837,
     "end_time": "2025-03-30T02:13:22.655710",
     "exception": false,
     "start_time": "2025-03-30T02:13:22.650873",
     "status": "completed"
    },
    "tags": []
   },
   "source": [
    "## Scaling"
   ]
  },
  {
   "cell_type": "code",
   "execution_count": 10,
   "id": "f96f96e0",
   "metadata": {
    "execution": {
     "iopub.execute_input": "2025-03-30T02:13:22.666312Z",
     "iopub.status.busy": "2025-03-30T02:13:22.666067Z",
     "iopub.status.idle": "2025-03-30T02:13:22.669190Z",
     "shell.execute_reply": "2025-03-30T02:13:22.668374Z"
    },
    "papermill": {
     "duration": 0.010041,
     "end_time": "2025-03-30T02:13:22.670563",
     "exception": false,
     "start_time": "2025-03-30T02:13:22.660522",
     "status": "completed"
    },
    "tags": []
   },
   "outputs": [],
   "source": [
    "# scaler = StandardScaler()\n",
    "# X = scaler.fit_transform(X)"
   ]
  },
  {
   "cell_type": "markdown",
   "id": "30fc8448",
   "metadata": {
    "papermill": {
     "duration": 0.004896,
     "end_time": "2025-03-30T02:13:22.682350",
     "exception": false,
     "start_time": "2025-03-30T02:13:22.677454",
     "status": "completed"
    },
    "tags": []
   },
   "source": [
    "## Hyperparameter tuning"
   ]
  },
  {
   "cell_type": "code",
   "execution_count": 11,
   "id": "57857551",
   "metadata": {
    "execution": {
     "iopub.execute_input": "2025-03-30T02:13:22.692953Z",
     "iopub.status.busy": "2025-03-30T02:13:22.692746Z",
     "iopub.status.idle": "2025-03-30T02:13:22.695824Z",
     "shell.execute_reply": "2025-03-30T02:13:22.695228Z"
    },
    "papermill": {
     "duration": 0.009692,
     "end_time": "2025-03-30T02:13:22.697031",
     "exception": false,
     "start_time": "2025-03-30T02:13:22.687339",
     "status": "completed"
    },
    "tags": []
   },
   "outputs": [],
   "source": [
    "# # Define the objective function for optimization\n",
    "# def objective(trial):\n",
    "#     params = {\n",
    "#         \"n_estimators\": trial.suggest_int(\"n_estimators\", 50, 500),\n",
    "#         \"learning_rate\": trial.suggest_float(\"learning_rate\", 0.01, 0.3),\n",
    "#         \"max_depth\": trial.suggest_int(\"max_depth\", 3, 15),\n",
    "#         \"subsample\": trial.suggest_float(\"subsample\", 0.5, 1.0),\n",
    "#         \"colsample_bytree\": trial.suggest_float(\"colsample_bytree\", 0.5, 1.0),\n",
    "#         \"reg_alpha\": trial.suggest_float(\"reg_alpha\", 0, 10),\n",
    "#         \"reg_lambda\": trial.suggest_float(\"reg_lambda\", 0, 10),\n",
    "#         \"tree_method\": \"gpu_hist\",  # Use GPU acceleration\n",
    "#         \"device\": \"cuda\",\n",
    "#         \"n_gpus\": -1\n",
    "#     }\n",
    "\n",
    "#     model = XGBRegressor(**params, random_state=42)\n",
    "#     cv_scores = cross_val_score(model, X.values, y.values, cv=5, scoring='neg_mean_squared_error', n_jobs=-1)\n",
    "    \n",
    "#     # Calculate RMSE\n",
    "#     rmse = np.sqrt(-cv_scores)\n",
    "#     return np.mean(rmse) + np.std(rmse)\n",
    "\n",
    "# # Run optimization\n",
    "# study = optuna.create_study(direction=\"minimize\")  # Minimize RMSE\n",
    "# study.optimize(objective, n_trials=50)  # Adjust n_trials for more tuning\n",
    "\n",
    "# # Print the best parameters\n",
    "# print(\"Best hyperparameters:\", study.best_params)"
   ]
  },
  {
   "cell_type": "code",
   "execution_count": 12,
   "id": "add25f7d",
   "metadata": {
    "execution": {
     "iopub.execute_input": "2025-03-30T02:13:22.707844Z",
     "iopub.status.busy": "2025-03-30T02:13:22.707645Z",
     "iopub.status.idle": "2025-03-30T02:13:22.710887Z",
     "shell.execute_reply": "2025-03-30T02:13:22.710300Z"
    },
    "papermill": {
     "duration": 0.010176,
     "end_time": "2025-03-30T02:13:22.712131",
     "exception": false,
     "start_time": "2025-03-30T02:13:22.701955",
     "status": "completed"
    },
    "tags": []
   },
   "outputs": [],
   "source": [
    "# Best hyperparameters XGBoost: {'n_estimators': 478, 'learning_rate': 0.1663328863259368, 'max_depth': 3, 'subsample': 0.7252234539866299, 'colsample_bytree': 0.7862385259565916, 'reg_alpha': 9.778581214799006, 'reg_lambda': 5.87816523829437}\n",
    "best_params = {'n_estimators': 478, 'learning_rate': 0.1663328863259368, 'max_depth': 3, 'subsample': 0.7252234539866299, 'colsample_bytree': 0.7862385259565916, 'reg_alpha': 9.778581214799006, 'reg_lambda': 5.87816523829437}\n",
    "# Create a Random Forest object\n"
   ]
  },
  {
   "cell_type": "markdown",
   "id": "73d69a47",
   "metadata": {
    "papermill": {
     "duration": 0.004839,
     "end_time": "2025-03-30T02:13:22.721880",
     "exception": false,
     "start_time": "2025-03-30T02:13:22.717041",
     "status": "completed"
    },
    "tags": []
   },
   "source": [
    "## Feature Selection"
   ]
  },
  {
   "cell_type": "code",
   "execution_count": 13,
   "id": "36ba0e01",
   "metadata": {
    "execution": {
     "iopub.execute_input": "2025-03-30T02:13:22.732558Z",
     "iopub.status.busy": "2025-03-30T02:13:22.732360Z",
     "iopub.status.idle": "2025-03-30T02:13:23.774343Z",
     "shell.execute_reply": "2025-03-30T02:13:23.773592Z"
    },
    "papermill": {
     "duration": 1.049263,
     "end_time": "2025-03-30T02:13:23.776098",
     "exception": false,
     "start_time": "2025-03-30T02:13:22.726835",
     "status": "completed"
    },
    "tags": []
   },
   "outputs": [],
   "source": [
    "# Train XGBoost model\n",
    "model = XGBRegressor(**best_params, tree_method='gpu_hist', device='cuda', random_state=42)\n",
    "model.fit(X.values, y.values)\n",
    "\n",
    "# Get feature importance\n",
    "feature_importance = model.feature_importances_\n",
    "features = X.columns\n",
    "\n",
    "# Sort features by importance\n",
    "sorted_idx = feature_importance.argsort()\n"
   ]
  },
  {
   "cell_type": "code",
   "execution_count": 14,
   "id": "1d80e3db",
   "metadata": {
    "execution": {
     "iopub.execute_input": "2025-03-30T02:13:23.788506Z",
     "iopub.status.busy": "2025-03-30T02:13:23.788266Z",
     "iopub.status.idle": "2025-03-30T02:13:23.796941Z",
     "shell.execute_reply": "2025-03-30T02:13:23.796209Z"
    },
    "papermill": {
     "duration": 0.015619,
     "end_time": "2025-03-30T02:13:23.798246",
     "exception": false,
     "start_time": "2025-03-30T02:13:23.782627",
     "status": "completed"
    },
    "tags": []
   },
   "outputs": [
    {
     "name": "stdout",
     "output_type": "stream",
     "text": [
      "Selected Features: ['Street', 'QualPoolArea', 'PoolQC', 'HasPool', 'HasGarage', 'LowQualFinSF', 'HasFireplace', 'Condition2', 'LogLotArea', 'GarageCond', 'TotalBsmtBath', 'SoldDecade', 'HasDeck', 'BsmtQual', 'Exterior2nd', 'BsmtFinType2', 'HasBasementQual', 'FireplaceGarage', 'MiscFeature', 'Fence', 'ExterQual', 'BldgType', 'LotShapeReg', 'RoofStyle', 'HalfBathAboveGrade', 'ExterCond', 'Foundation', 'MasVnrType', 'FireplaceQuality', 'HouseStyle', 'LotShape', 'LogGrLivArea', 'MSSubClass', 'BsmtFullBath', 'GarageToHouseArea', 'BasementToTotalSF', 'BsmtFinType1', 'Id', 'FloorAreaToTotal', 'EnclosedPorch', '3SsnPorch', 'LandSlope', 'LivingToLotRatio', 'MoSold', 'YearBuilt', 'YearsSinceRemodel', 'BsmtHalfBath', 'StyleQuality', 'Exterior1st', 'BsmtCond', 'GarageAge', 'AboveGradeSF', 'Electrical', 'YrSold', 'LotFrontageCategory', 'BsmtFinSF2', 'KitchenAbvGr', 'MiscVal', 'ConditionLotConfig', 'SaleSeason', 'WoodDeckSF', 'Alley', 'ZoningQuality', 'TotalPorchSF', 'BasementSF', 'MasVnrArea', 'OpenPorchSF', 'BsmtUnfSF', 'LotConfig', 'TotalBsmtSF', 'GarageArea', 'LotFrontage', 'BuiltDecade', 'OverallCond', 'FunctionalQuality', '1stFlrSF', 'PavedDrive', 'HeatingQC', 'SaleCondition', 'Condition1', 'HouseAge', 'GarageYrBlt', 'Functional', 'LotArea', 'TotRmsAbvGrd', 'YearRemodAdd', 'ScreenPorch', 'FirstFlrSF', 'HalfBath', 'SaleType', 'GrLivArea', 'LotSize', 'BedroomAbvGr', 'Fireplaces', 'BsmtFinSF1', 'BsmtExposure', 'PoolArea', 'SecondFlrSF', 'NeighborhoodQuality', 'MSZoning', 'RoofMatl', 'CentralAir', '2ndFlrSF', 'LandContour', 'FireplaceQu', 'GarageType', 'QualCond', 'FullBath', 'LogLotSize', 'GarageCars', 'TotalBath', 'ConditionGarage', 'GarageFinish', 'KitchenQual', 'Neighborhood', 'TotalSF', 'OverallQual', 'LogTotalSF', 'TotalArea', 'QualityBasement']\n"
     ]
    }
   ],
   "source": [
    "# Select top N important features\n",
    "N = 120  # Change this based on importance cutoff\n",
    "important_features = features[sorted_idx][-N:]\n",
    "X_selected = X[important_features]\n",
    "\n",
    "print(\"Selected Features:\", important_features.tolist())"
   ]
  },
  {
   "cell_type": "markdown",
   "id": "61670b81",
   "metadata": {
    "papermill": {
     "duration": 0.005155,
     "end_time": "2025-03-30T02:13:23.808541",
     "exception": false,
     "start_time": "2025-03-30T02:13:23.803386",
     "status": "completed"
    },
    "tags": []
   },
   "source": [
    "### PCA"
   ]
  },
  {
   "cell_type": "code",
   "execution_count": 15,
   "id": "00ef2096",
   "metadata": {
    "execution": {
     "iopub.execute_input": "2025-03-30T02:13:23.819526Z",
     "iopub.status.busy": "2025-03-30T02:13:23.819306Z",
     "iopub.status.idle": "2025-03-30T02:13:23.964242Z",
     "shell.execute_reply": "2025-03-30T02:13:23.963522Z"
    },
    "papermill": {
     "duration": 0.152093,
     "end_time": "2025-03-30T02:13:23.965895",
     "exception": false,
     "start_time": "2025-03-30T02:13:23.813802",
     "status": "completed"
    },
    "tags": []
   },
   "outputs": [],
   "source": [
    "from sklearn.decomposition import PCA\n",
    "\n",
    "pca = PCA(n_components=100)\n",
    "X_pca = pca.fit_transform(X)"
   ]
  },
  {
   "cell_type": "markdown",
   "id": "a40d6ff8",
   "metadata": {
    "papermill": {
     "duration": 0.004972,
     "end_time": "2025-03-30T02:13:23.976155",
     "exception": false,
     "start_time": "2025-03-30T02:13:23.971183",
     "status": "completed"
    },
    "tags": []
   },
   "source": [
    "## Ensembling"
   ]
  },
  {
   "cell_type": "code",
   "execution_count": 16,
   "id": "d6ec757a",
   "metadata": {
    "execution": {
     "iopub.execute_input": "2025-03-30T02:13:23.986783Z",
     "iopub.status.busy": "2025-03-30T02:13:23.986531Z",
     "iopub.status.idle": "2025-03-30T02:13:23.994742Z",
     "shell.execute_reply": "2025-03-30T02:13:23.993941Z"
    },
    "papermill": {
     "duration": 0.015104,
     "end_time": "2025-03-30T02:13:23.996208",
     "exception": false,
     "start_time": "2025-03-30T02:13:23.981104",
     "status": "completed"
    },
    "tags": []
   },
   "outputs": [],
   "source": [
    "base_models = [\n",
    "    ('xgb', XGBRegressor(**best_params, tree_method='gpu_hist', device='cuda', random_state=42)),\n",
    "    ('rf', RandomForestRegressor(n_estimators=200, random_state=42)),\n",
    "    ('nn', MLPRegressor(hidden_layer_sizes=(64, 32), activation='relu', solver='adam', max_iter=1000, random_state=42)),\n",
    "]"
   ]
  },
  {
   "cell_type": "markdown",
   "id": "f1211946",
   "metadata": {
    "papermill": {
     "duration": 0.004731,
     "end_time": "2025-03-30T02:13:24.006248",
     "exception": false,
     "start_time": "2025-03-30T02:13:24.001517",
     "status": "completed"
    },
    "tags": []
   },
   "source": [
    "## Validation"
   ]
  },
  {
   "cell_type": "code",
   "execution_count": 17,
   "id": "2bb9be20",
   "metadata": {
    "execution": {
     "iopub.execute_input": "2025-03-30T02:13:24.016739Z",
     "iopub.status.busy": "2025-03-30T02:13:24.016537Z",
     "iopub.status.idle": "2025-03-30T02:13:24.020134Z",
     "shell.execute_reply": "2025-03-30T02:13:24.019551Z"
    },
    "papermill": {
     "duration": 0.010205,
     "end_time": "2025-03-30T02:13:24.021283",
     "exception": false,
     "start_time": "2025-03-30T02:13:24.011078",
     "status": "completed"
    },
    "tags": []
   },
   "outputs": [],
   "source": [
    "# Create the stacking model\n",
    "model = StackingRegressor(estimators=base_models, final_estimator=LinearRegression())"
   ]
  },
  {
   "cell_type": "code",
   "execution_count": 18,
   "id": "5c5e119a",
   "metadata": {
    "execution": {
     "iopub.execute_input": "2025-03-30T02:13:24.031899Z",
     "iopub.status.busy": "2025-03-30T02:13:24.031693Z",
     "iopub.status.idle": "2025-03-30T02:14:41.013426Z",
     "shell.execute_reply": "2025-03-30T02:14:41.012440Z"
    },
    "papermill": {
     "duration": 76.994119,
     "end_time": "2025-03-30T02:14:41.020406",
     "exception": false,
     "start_time": "2025-03-30T02:13:24.026287",
     "status": "completed"
    },
    "tags": []
   },
   "outputs": [
    {
     "name": "stdout",
     "output_type": "stream",
     "text": [
      "Overall validation RMSE: 28,618\n"
     ]
    }
   ],
   "source": [
    "# Create a KFold object\n",
    "kf = KFold(n_splits=5, shuffle=True, random_state=5)\n",
    "\n",
    "# Compute 5-fold cross-validation scores\n",
    "cv_scores = cross_val_score(model, X.values, y.values, cv=kf, scoring='neg_mean_squared_error')\n",
    "\n",
    "# Calculate RMSE\n",
    "rmse = np.sqrt(-cv_scores)\n",
    "\n",
    "# print(\"Validation MAE for Random Forest Model: {:,.0f}\".format(rf_val_mae))\n",
    "\n",
    "print('Overall validation RMSE: {:,.0f}'.format(np.mean(rmse) + np.std(rmse)))"
   ]
  },
  {
   "cell_type": "markdown",
   "id": "09787620",
   "metadata": {
    "papermill": {
     "duration": 0.004863,
     "end_time": "2025-03-30T02:14:41.030563",
     "exception": false,
     "start_time": "2025-03-30T02:14:41.025700",
     "status": "completed"
    },
    "tags": []
   },
   "source": [
    "## Training"
   ]
  },
  {
   "cell_type": "code",
   "execution_count": 19,
   "id": "125da4e4",
   "metadata": {
    "execution": {
     "iopub.execute_input": "2025-03-30T02:14:41.041253Z",
     "iopub.status.busy": "2025-03-30T02:14:41.040957Z",
     "iopub.status.idle": "2025-03-30T02:14:59.270880Z",
     "shell.execute_reply": "2025-03-30T02:14:59.270038Z"
    },
    "papermill": {
     "duration": 18.236995,
     "end_time": "2025-03-30T02:14:59.272470",
     "exception": false,
     "start_time": "2025-03-30T02:14:41.035475",
     "status": "completed"
    },
    "tags": []
   },
   "outputs": [
    {
     "data": {
      "text/html": [
       "<style>#sk-container-id-1 {color: black;background-color: white;}#sk-container-id-1 pre{padding: 0;}#sk-container-id-1 div.sk-toggleable {background-color: white;}#sk-container-id-1 label.sk-toggleable__label {cursor: pointer;display: block;width: 100%;margin-bottom: 0;padding: 0.3em;box-sizing: border-box;text-align: center;}#sk-container-id-1 label.sk-toggleable__label-arrow:before {content: \"▸\";float: left;margin-right: 0.25em;color: #696969;}#sk-container-id-1 label.sk-toggleable__label-arrow:hover:before {color: black;}#sk-container-id-1 div.sk-estimator:hover label.sk-toggleable__label-arrow:before {color: black;}#sk-container-id-1 div.sk-toggleable__content {max-height: 0;max-width: 0;overflow: hidden;text-align: left;background-color: #f0f8ff;}#sk-container-id-1 div.sk-toggleable__content pre {margin: 0.2em;color: black;border-radius: 0.25em;background-color: #f0f8ff;}#sk-container-id-1 input.sk-toggleable__control:checked~div.sk-toggleable__content {max-height: 200px;max-width: 100%;overflow: auto;}#sk-container-id-1 input.sk-toggleable__control:checked~label.sk-toggleable__label-arrow:before {content: \"▾\";}#sk-container-id-1 div.sk-estimator input.sk-toggleable__control:checked~label.sk-toggleable__label {background-color: #d4ebff;}#sk-container-id-1 div.sk-label input.sk-toggleable__control:checked~label.sk-toggleable__label {background-color: #d4ebff;}#sk-container-id-1 input.sk-hidden--visually {border: 0;clip: rect(1px 1px 1px 1px);clip: rect(1px, 1px, 1px, 1px);height: 1px;margin: -1px;overflow: hidden;padding: 0;position: absolute;width: 1px;}#sk-container-id-1 div.sk-estimator {font-family: monospace;background-color: #f0f8ff;border: 1px dotted black;border-radius: 0.25em;box-sizing: border-box;margin-bottom: 0.5em;}#sk-container-id-1 div.sk-estimator:hover {background-color: #d4ebff;}#sk-container-id-1 div.sk-parallel-item::after {content: \"\";width: 100%;border-bottom: 1px solid gray;flex-grow: 1;}#sk-container-id-1 div.sk-label:hover label.sk-toggleable__label {background-color: #d4ebff;}#sk-container-id-1 div.sk-serial::before {content: \"\";position: absolute;border-left: 1px solid gray;box-sizing: border-box;top: 0;bottom: 0;left: 50%;z-index: 0;}#sk-container-id-1 div.sk-serial {display: flex;flex-direction: column;align-items: center;background-color: white;padding-right: 0.2em;padding-left: 0.2em;position: relative;}#sk-container-id-1 div.sk-item {position: relative;z-index: 1;}#sk-container-id-1 div.sk-parallel {display: flex;align-items: stretch;justify-content: center;background-color: white;position: relative;}#sk-container-id-1 div.sk-item::before, #sk-container-id-1 div.sk-parallel-item::before {content: \"\";position: absolute;border-left: 1px solid gray;box-sizing: border-box;top: 0;bottom: 0;left: 50%;z-index: -1;}#sk-container-id-1 div.sk-parallel-item {display: flex;flex-direction: column;z-index: 1;position: relative;background-color: white;}#sk-container-id-1 div.sk-parallel-item:first-child::after {align-self: flex-end;width: 50%;}#sk-container-id-1 div.sk-parallel-item:last-child::after {align-self: flex-start;width: 50%;}#sk-container-id-1 div.sk-parallel-item:only-child::after {width: 0;}#sk-container-id-1 div.sk-dashed-wrapped {border: 1px dashed gray;margin: 0 0.4em 0.5em 0.4em;box-sizing: border-box;padding-bottom: 0.4em;background-color: white;}#sk-container-id-1 div.sk-label label {font-family: monospace;font-weight: bold;display: inline-block;line-height: 1.2em;}#sk-container-id-1 div.sk-label-container {text-align: center;}#sk-container-id-1 div.sk-container {/* jupyter's `normalize.less` sets `[hidden] { display: none; }` but bootstrap.min.css set `[hidden] { display: none !important; }` so we also need the `!important` here to be able to override the default hidden behavior on the sphinx rendered scikit-learn.org. See: https://github.com/scikit-learn/scikit-learn/issues/21755 */display: inline-block !important;position: relative;}#sk-container-id-1 div.sk-text-repr-fallback {display: none;}</style><div id=\"sk-container-id-1\" class=\"sk-top-container\"><div class=\"sk-text-repr-fallback\"><pre>StackingRegressor(estimators=[(&#x27;xgb&#x27;,\n",
       "                               XGBRegressor(base_score=None, booster=None,\n",
       "                                            callbacks=None,\n",
       "                                            colsample_bylevel=None,\n",
       "                                            colsample_bynode=None,\n",
       "                                            colsample_bytree=0.7862385259565916,\n",
       "                                            device=&#x27;cuda&#x27;,\n",
       "                                            early_stopping_rounds=None,\n",
       "                                            enable_categorical=False,\n",
       "                                            eval_metric=None,\n",
       "                                            feature_types=None, gamma=None,\n",
       "                                            grow_policy=None,\n",
       "                                            importance_type=None,\n",
       "                                            interaction_constraints=...\n",
       "                                            max_cat_to_onehot=None,\n",
       "                                            max_delta_step=None, max_depth=3,\n",
       "                                            max_leaves=None,\n",
       "                                            min_child_weight=None, missing=nan,\n",
       "                                            monotone_constraints=None,\n",
       "                                            multi_strategy=None,\n",
       "                                            n_estimators=478, n_jobs=None,\n",
       "                                            num_parallel_tree=None,\n",
       "                                            random_state=42, ...)),\n",
       "                              (&#x27;rf&#x27;, RandomForestRegressor()),\n",
       "                              (&#x27;nn&#x27;,\n",
       "                               MLPRegressor(hidden_layer_sizes=(64, 32),\n",
       "                                            max_iter=1000, random_state=42))],\n",
       "                  final_estimator=LinearRegression())</pre><b>In a Jupyter environment, please rerun this cell to show the HTML representation or trust the notebook. <br />On GitHub, the HTML representation is unable to render, please try loading this page with nbviewer.org.</b></div><div class=\"sk-container\" hidden><div class=\"sk-item sk-dashed-wrapped\"><div class=\"sk-label-container\"><div class=\"sk-label sk-toggleable\"><input class=\"sk-toggleable__control sk-hidden--visually\" id=\"sk-estimator-id-1\" type=\"checkbox\" ><label for=\"sk-estimator-id-1\" class=\"sk-toggleable__label sk-toggleable__label-arrow\">StackingRegressor</label><div class=\"sk-toggleable__content\"><pre>StackingRegressor(estimators=[(&#x27;xgb&#x27;,\n",
       "                               XGBRegressor(base_score=None, booster=None,\n",
       "                                            callbacks=None,\n",
       "                                            colsample_bylevel=None,\n",
       "                                            colsample_bynode=None,\n",
       "                                            colsample_bytree=0.7862385259565916,\n",
       "                                            device=&#x27;cuda&#x27;,\n",
       "                                            early_stopping_rounds=None,\n",
       "                                            enable_categorical=False,\n",
       "                                            eval_metric=None,\n",
       "                                            feature_types=None, gamma=None,\n",
       "                                            grow_policy=None,\n",
       "                                            importance_type=None,\n",
       "                                            interaction_constraints=...\n",
       "                                            max_cat_to_onehot=None,\n",
       "                                            max_delta_step=None, max_depth=3,\n",
       "                                            max_leaves=None,\n",
       "                                            min_child_weight=None, missing=nan,\n",
       "                                            monotone_constraints=None,\n",
       "                                            multi_strategy=None,\n",
       "                                            n_estimators=478, n_jobs=None,\n",
       "                                            num_parallel_tree=None,\n",
       "                                            random_state=42, ...)),\n",
       "                              (&#x27;rf&#x27;, RandomForestRegressor()),\n",
       "                              (&#x27;nn&#x27;,\n",
       "                               MLPRegressor(hidden_layer_sizes=(64, 32),\n",
       "                                            max_iter=1000, random_state=42))],\n",
       "                  final_estimator=LinearRegression())</pre></div></div></div><div class=\"sk-serial\"><div class=\"sk-item\"><div class=\"sk-parallel\"><div class=\"sk-parallel-item\"><div class=\"sk-item\"><div class=\"sk-label-container\"><div class=\"sk-label sk-toggleable\"><label>xgb</label></div></div><div class=\"sk-serial\"><div class=\"sk-item\"><div class=\"sk-estimator sk-toggleable\"><input class=\"sk-toggleable__control sk-hidden--visually\" id=\"sk-estimator-id-2\" type=\"checkbox\" ><label for=\"sk-estimator-id-2\" class=\"sk-toggleable__label sk-toggleable__label-arrow\">XGBRegressor</label><div class=\"sk-toggleable__content\"><pre>XGBRegressor(base_score=None, booster=None, callbacks=None,\n",
       "             colsample_bylevel=None, colsample_bynode=None,\n",
       "             colsample_bytree=0.7862385259565916, device=&#x27;cuda&#x27;,\n",
       "             early_stopping_rounds=None, enable_categorical=False,\n",
       "             eval_metric=None, feature_types=None, gamma=None, grow_policy=None,\n",
       "             importance_type=None, interaction_constraints=None,\n",
       "             learning_rate=0.1663328863259368, max_bin=None,\n",
       "             max_cat_threshold=None, max_cat_to_onehot=None,\n",
       "             max_delta_step=None, max_depth=3, max_leaves=None,\n",
       "             min_child_weight=None, missing=nan, monotone_constraints=None,\n",
       "             multi_strategy=None, n_estimators=478, n_jobs=None,\n",
       "             num_parallel_tree=None, random_state=42, ...)</pre></div></div></div></div></div></div><div class=\"sk-parallel-item\"><div class=\"sk-item\"><div class=\"sk-label-container\"><div class=\"sk-label sk-toggleable\"><label>rf</label></div></div><div class=\"sk-serial\"><div class=\"sk-item\"><div class=\"sk-estimator sk-toggleable\"><input class=\"sk-toggleable__control sk-hidden--visually\" id=\"sk-estimator-id-3\" type=\"checkbox\" ><label for=\"sk-estimator-id-3\" class=\"sk-toggleable__label sk-toggleable__label-arrow\">RandomForestRegressor</label><div class=\"sk-toggleable__content\"><pre>RandomForestRegressor()</pre></div></div></div></div></div></div><div class=\"sk-parallel-item\"><div class=\"sk-item\"><div class=\"sk-label-container\"><div class=\"sk-label sk-toggleable\"><label>nn</label></div></div><div class=\"sk-serial\"><div class=\"sk-item\"><div class=\"sk-estimator sk-toggleable\"><input class=\"sk-toggleable__control sk-hidden--visually\" id=\"sk-estimator-id-4\" type=\"checkbox\" ><label for=\"sk-estimator-id-4\" class=\"sk-toggleable__label sk-toggleable__label-arrow\">MLPRegressor</label><div class=\"sk-toggleable__content\"><pre>MLPRegressor(hidden_layer_sizes=(64, 32), max_iter=1000, random_state=42)</pre></div></div></div></div></div></div></div></div><div class=\"sk-item\"><div class=\"sk-parallel\"><div class=\"sk-parallel-item\"><div class=\"sk-item\"><div class=\"sk-label-container\"><div class=\"sk-label sk-toggleable\"><label>final_estimator</label></div></div><div class=\"sk-serial\"><div class=\"sk-item\"><div class=\"sk-estimator sk-toggleable\"><input class=\"sk-toggleable__control sk-hidden--visually\" id=\"sk-estimator-id-5\" type=\"checkbox\" ><label for=\"sk-estimator-id-5\" class=\"sk-toggleable__label sk-toggleable__label-arrow\">LinearRegression</label><div class=\"sk-toggleable__content\"><pre>LinearRegression()</pre></div></div></div></div></div></div></div></div></div></div></div></div>"
      ],
      "text/plain": [
       "StackingRegressor(estimators=[('xgb',\n",
       "                               XGBRegressor(base_score=None, booster=None,\n",
       "                                            callbacks=None,\n",
       "                                            colsample_bylevel=None,\n",
       "                                            colsample_bynode=None,\n",
       "                                            colsample_bytree=0.7862385259565916,\n",
       "                                            device='cuda',\n",
       "                                            early_stopping_rounds=None,\n",
       "                                            enable_categorical=False,\n",
       "                                            eval_metric=None,\n",
       "                                            feature_types=None, gamma=None,\n",
       "                                            grow_policy=None,\n",
       "                                            importance_type=None,\n",
       "                                            interaction_constraints=...\n",
       "                                            max_cat_to_onehot=None,\n",
       "                                            max_delta_step=None, max_depth=3,\n",
       "                                            max_leaves=None,\n",
       "                                            min_child_weight=None, missing=nan,\n",
       "                                            monotone_constraints=None,\n",
       "                                            multi_strategy=None,\n",
       "                                            n_estimators=478, n_jobs=None,\n",
       "                                            num_parallel_tree=None,\n",
       "                                            random_state=42, ...)),\n",
       "                              ('rf', RandomForestRegressor()),\n",
       "                              ('nn',\n",
       "                               MLPRegressor(hidden_layer_sizes=(64, 32),\n",
       "                                            max_iter=1000, random_state=42))],\n",
       "                  final_estimator=LinearRegression())"
      ]
     },
     "execution_count": 19,
     "metadata": {},
     "output_type": "execute_result"
    }
   ],
   "source": [
    "# Train a model\n",
    "model.fit(X.values, y.values)"
   ]
  },
  {
   "cell_type": "markdown",
   "id": "a02bfd04",
   "metadata": {
    "papermill": {
     "duration": 0.005461,
     "end_time": "2025-03-30T02:14:59.283924",
     "exception": false,
     "start_time": "2025-03-30T02:14:59.278463",
     "status": "completed"
    },
    "tags": []
   },
   "source": [
    "## Submission"
   ]
  },
  {
   "cell_type": "code",
   "execution_count": 20,
   "id": "535ca124",
   "metadata": {
    "execution": {
     "iopub.execute_input": "2025-03-30T02:14:59.295623Z",
     "iopub.status.busy": "2025-03-30T02:14:59.295390Z",
     "iopub.status.idle": "2025-03-30T02:15:00.143639Z",
     "shell.execute_reply": "2025-03-30T02:15:00.142723Z"
    },
    "papermill": {
     "duration": 0.855986,
     "end_time": "2025-03-30T02:15:00.145307",
     "exception": false,
     "start_time": "2025-03-30T02:14:59.289321",
     "status": "completed"
    },
    "tags": []
   },
   "outputs": [],
   "source": [
    "# Get predictions for the test set\n",
    "test[target] = model.predict(test.values)\n",
    "\n",
    "# Write test predictions using the sample_submission format\n",
    "test[['Id', target]].to_csv('kaggle_submission.csv', index=False)"
   ]
  },
  {
   "cell_type": "code",
   "execution_count": null,
   "id": "5dd22229",
   "metadata": {
    "papermill": {
     "duration": 0.005362,
     "end_time": "2025-03-30T02:15:00.156607",
     "exception": false,
     "start_time": "2025-03-30T02:15:00.151245",
     "status": "completed"
    },
    "tags": []
   },
   "outputs": [],
   "source": []
  }
 ],
 "metadata": {
  "kaggle": {
   "accelerator": "nvidiaTeslaT4",
   "dataSources": [
    {
     "databundleVersionId": 868283,
     "sourceId": 5407,
     "sourceType": "competition"
    }
   ],
   "dockerImageVersionId": 30918,
   "isGpuEnabled": true,
   "isInternetEnabled": true,
   "language": "python",
   "sourceType": "notebook"
  },
  "kernelspec": {
   "display_name": "Python 3",
   "language": "python",
   "name": "python3"
  },
  "language_info": {
   "codemirror_mode": {
    "name": "ipython",
    "version": 3
   },
   "file_extension": ".py",
   "mimetype": "text/x-python",
   "name": "python",
   "nbconvert_exporter": "python",
   "pygments_lexer": "ipython3",
   "version": "3.10.12"
  },
  "papermill": {
   "default_parameters": {},
   "duration": 115.86603,
   "end_time": "2025-03-30T02:15:01.983889",
   "environment_variables": {},
   "exception": null,
   "input_path": "__notebook__.ipynb",
   "output_path": "__notebook__.ipynb",
   "parameters": {},
   "start_time": "2025-03-30T02:13:06.117859",
   "version": "2.6.0"
  }
 },
 "nbformat": 4,
 "nbformat_minor": 5
}
